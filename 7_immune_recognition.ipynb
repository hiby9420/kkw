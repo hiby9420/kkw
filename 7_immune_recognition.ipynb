{
 "cells": [
  {
   "cell_type": "code",
   "execution_count": null,
   "id": "6ad8b4f9-8f5f-4e2b-9170-0c76a94dbf09",
   "metadata": {},
   "outputs": [],
   "source": [
    "To apply the artificial immune pattern recognition to perform a task of structure damage \n",
    "Classification."
   ]
  },
  {
   "cell_type": "code",
   "execution_count": 1,
   "id": "40162598-1a39-47d2-87d1-1dc270a33509",
   "metadata": {},
   "outputs": [
    {
     "name": "stdout",
     "output_type": "stream",
     "text": [
      "Classification accuracy: 94.00%\n"
     ]
    }
   ],
   "source": [
    "import numpy as np\n",
    "import random\n",
    "\n",
    "# Synthetic dataset (features: e.g., vibration, stress)\n",
    "np.random.seed(42)\n",
    "healthy_samples = np.random.rand(50, 4)  # 50 healthy samples\n",
    "damaged_samples = np.random.rand(50, 4) + 1  # 50 damaged samples (shifted)\n",
    "\n",
    "# Combine and label\n",
    "X = np.vstack((healthy_samples, damaged_samples))\n",
    "y = np.array([0]*50 + [1]*50)\n",
    "\n",
    "# Negative selection: generate random detectors that do NOT match healthy patterns\n",
    "num_detectors = 20\n",
    "detectors = []\n",
    "\n",
    "def match(sample1, sample2, threshold=0.5):\n",
    "    return np.linalg.norm(sample1 - sample2) < threshold\n",
    "\n",
    "while len(detectors) < num_detectors:\n",
    "    candidate = np.random.rand(4) + 1  # Focus on damaged space\n",
    "    if all(not match(candidate, h) for h in healthy_samples):\n",
    "        detectors.append(candidate)\n",
    "\n",
    "# Classification function using detectors\n",
    "def classify(sample, detectors, threshold=0.5):\n",
    "    for det in detectors:\n",
    "        if match(sample, det, threshold):\n",
    "            return 1  # Detected as damaged\n",
    "    return 0  # Otherwise, assumed healthy\n",
    "\n",
    "# Test on all data\n",
    "correct = 0\n",
    "for xi, yi in zip(X, y):\n",
    "    pred = classify(xi, detectors)\n",
    "    if pred == yi:\n",
    "        correct += 1\n",
    "\n",
    "accuracy = correct / len(y)\n",
    "print(f\"Classification accuracy: {accuracy*100:.2f}%\")\n"
   ]
  },
  {
   "cell_type": "code",
   "execution_count": null,
   "id": "e6b1ffea-eebd-4a07-9442-1e0eff772770",
   "metadata": {},
   "outputs": [],
   "source": []
  },
  {
   "cell_type": "code",
   "execution_count": null,
   "id": "b3f7f24f-500c-4e26-b49c-be7167da86aa",
   "metadata": {},
   "outputs": [],
   "source": []
  }
 ],
 "metadata": {
  "kernelspec": {
   "display_name": "Python 3 (ipykernel)",
   "language": "python",
   "name": "python3"
  },
  "language_info": {
   "codemirror_mode": {
    "name": "ipython",
    "version": 3
   },
   "file_extension": ".py",
   "mimetype": "text/x-python",
   "name": "python",
   "nbconvert_exporter": "python",
   "pygments_lexer": "ipython3",
   "version": "3.10.0"
  }
 },
 "nbformat": 4,
 "nbformat_minor": 5
}
