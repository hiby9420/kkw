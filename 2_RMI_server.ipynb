{
 "cells": [
  {
   "cell_type": "code",
   "execution_count": null,
   "id": "f5ee6656-4dd9-45d3-a7aa-d6e3268be614",
   "metadata": {},
   "outputs": [],
   "source": [
    "Design a distributed application using RMI for remote computation where client submits two \n",
    "strings to the server and server returns the concatenation of the given strings"
   ]
  },
  {
   "cell_type": "code",
   "execution_count": 1,
   "id": "2fdcb26c-bcf9-4e5c-9548-f3e415424bd5",
   "metadata": {},
   "outputs": [
    {
     "name": "stdout",
     "output_type": "stream",
     "text": [
      "Collecting Pyro5\n",
      "  Downloading Pyro5-5.15-py3-none-any.whl (79 kB)\n",
      "Collecting serpent>=1.41\n",
      "  Downloading serpent-1.41-py3-none-any.whl (9.6 kB)\n",
      "Installing collected packages: serpent, Pyro5\n",
      "Successfully installed Pyro5-5.15 serpent-1.41\n",
      "Note: you may need to restart the kernel to use updated packages.\n"
     ]
    },
    {
     "name": "stderr",
     "output_type": "stream",
     "text": [
      "WARNING: You are using pip version 21.2.3; however, version 25.1.1 is available.\n",
      "You should consider upgrading via the 'C:\\Users\\ayush\\AppData\\Local\\Programs\\Python\\Python310\\python.exe -m pip install --upgrade pip' command.\n"
     ]
    }
   ],
   "source": [
    "pip install Pyro5\n"
   ]
  },
  {
   "cell_type": "code",
   "execution_count": null,
   "id": "d5017468-f9b5-426e-870d-fcda6342752c",
   "metadata": {},
   "outputs": [
    {
     "name": "stdout",
     "output_type": "stream",
     "text": [
      "Server is running. URI: PYRO:obj_cf48d62c119d43e4a1c21af929eaddbb@localhost:57190\n",
      "Received: 'hello' and 'world'\n"
     ]
    }
   ],
   "source": [
    "# concat_server.py\n",
    "import Pyro5.api\n",
    "\n",
    "@Pyro5.api.expose\n",
    "class ConcatServer:\n",
    "    def concatenate(self, str1, str2):\n",
    "        print(f\"Received: '{str1}' and '{str2}'\")\n",
    "        return str1 + str2\n",
    "\n",
    "def main():\n",
    "    daemon = Pyro5.server.Daemon()                # start server daemon\n",
    "    uri = daemon.register(ConcatServer)           # register object\n",
    "    print(f\"Server is running. URI: {uri}\")\n",
    "    daemon.requestLoop()                          # wait for requests\n",
    "\n",
    "if __name__ == \"__main__\":\n",
    "    main()\n"
   ]
  },
  {
   "cell_type": "code",
   "execution_count": null,
   "id": "5afe1174-4fb7-40af-b3b9-85b26c9d46b6",
   "metadata": {},
   "outputs": [],
   "source": []
  },
  {
   "cell_type": "code",
   "execution_count": null,
   "id": "578225ef-1561-4516-897e-53c994e40bf6",
   "metadata": {},
   "outputs": [],
   "source": []
  }
 ],
 "metadata": {
  "kernelspec": {
   "display_name": "Python 3 (ipykernel)",
   "language": "python",
   "name": "python3"
  },
  "language_info": {
   "codemirror_mode": {
    "name": "ipython",
    "version": 3
   },
   "file_extension": ".py",
   "mimetype": "text/x-python",
   "name": "python",
   "nbconvert_exporter": "python",
   "pygments_lexer": "ipython3",
   "version": "3.10.0"
  }
 },
 "nbformat": 4,
 "nbformat_minor": 5
}
