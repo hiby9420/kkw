{
 "cells": [
  {
   "cell_type": "code",
   "execution_count": 4,
   "id": "1caf00e6-cbf9-4d12-b568-16a1c4dd58a5",
   "metadata": {},
   "outputs": [
    {
     "name": "stdin",
     "output_type": "stream",
     "text": [
      "Enter server URI (e.g., PYRO:obj_xxx@localhost:xxxx):  PYRO:obj_cf48d62c119d43e4a1c21af929eaddbb@localhost:57190\n",
      "Enter first string:  hello\n",
      "Enter second string:  world\n"
     ]
    },
    {
     "name": "stdout",
     "output_type": "stream",
     "text": [
      "Concatenated Result: helloworld\n"
     ]
    }
   ],
   "source": [
    "# concat_client.py\n",
    "import Pyro5.api\n",
    "\n",
    "def main():\n",
    "    uri = input(\"Enter server URI (e.g., PYRO:obj_xxx@localhost:xxxx): \")\n",
    "    concat_server = Pyro5.api.Proxy(uri)\n",
    "\n",
    "    s1 = input(\"Enter first string: \")\n",
    "    s2 = input(\"Enter second string: \")\n",
    "\n",
    "    result = concat_server.concatenate(s1, s2)\n",
    "    print(f\"Concatenated Result: {result}\")\n",
    "\n",
    "if __name__ == \"__main__\":\n",
    "    main()\n"
   ]
  },
  {
   "cell_type": "code",
   "execution_count": null,
   "id": "f7e57029-ae7b-40de-b7bd-0c44343fc7bb",
   "metadata": {},
   "outputs": [],
   "source": []
  }
 ],
 "metadata": {
  "kernelspec": {
   "display_name": "Python 3 (ipykernel)",
   "language": "python",
   "name": "python3"
  },
  "language_info": {
   "codemirror_mode": {
    "name": "ipython",
    "version": 3
   },
   "file_extension": ".py",
   "mimetype": "text/x-python",
   "name": "python",
   "nbconvert_exporter": "python",
   "pygments_lexer": "ipython3",
   "version": "3.10.0"
  }
 },
 "nbformat": 4,
 "nbformat_minor": 5
}
