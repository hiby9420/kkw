{
 "cells": [
  {
   "cell_type": "markdown",
   "id": "2a06b1ae-5099-413f-8e30-ef0f6c0d4d6f",
   "metadata": {},
   "source": [
    "Optimization of genetic algorithm parameter in hybrid genetic algorithm-neural network \n",
    "modelling: Application to spray drying of coconut milk. "
   ]
  },
  {
   "cell_type": "code",
   "execution_count": 2,
   "id": "3037afb8-062d-42ed-92ca-8fa860491db3",
   "metadata": {},
   "outputs": [
    {
     "name": "stdout",
     "output_type": "stream",
     "text": [
      "Collecting deap\n",
      "  Downloading deap-1.4.3-cp310-cp310-win_amd64.whl (109 kB)\n",
      "Requirement already satisfied: numpy in c:\\users\\ayush\\appdata\\local\\programs\\python\\python310\\lib\\site-packages (from deap) (1.26.4)\n",
      "Installing collected packages: deap\n",
      "Successfully installed deap-1.4.3\n"
     ]
    },
    {
     "name": "stderr",
     "output_type": "stream",
     "text": [
      "WARNING: You are using pip version 21.2.3; however, version 25.1.1 is available.\n",
      "You should consider upgrading via the 'C:\\Users\\ayush\\AppData\\Local\\Programs\\Python\\Python310\\python.exe -m pip install --upgrade pip' command.\n",
      "C:\\Users\\ayush\\AppData\\Local\\Programs\\Python\\Python310\\lib\\site-packages\\keras\\src\\layers\\core\\dense.py:87: UserWarning: Do not pass an `input_shape`/`input_dim` argument to a layer. When using Sequential models, prefer using an `Input(shape)` object as the first layer in the model instead.\n",
      "  super().__init__(activity_regularizer=activity_regularizer, **kwargs)\n"
     ]
    },
    {
     "name": "stdout",
     "output_type": "stream",
     "text": [
      "gen\tnevals\n",
      "0  \t10    \n",
      "1  \t8     \n",
      "2  \t5     \n",
      "3  \t7     \n",
      "4  \t3     \n",
      "5  \t6     \n",
      "Best individual (learning rate, hidden units): [0.002110984287110711, 16.690867323871977]\n"
     ]
    }
   ],
   "source": [
    "!pip install deap\n",
    "import numpy as np\n",
    "from deap import base, creator, tools, algorithms\n",
    "import random\n",
    "from tensorflow.keras.models import Sequential\n",
    "from tensorflow.keras.layers import Dense\n",
    "\n",
    "# Synthetic data (simulate spray drying)\n",
    "X = np.random.rand(100, 4)  # e.g., temp, flow rate, speed, time\n",
    "y = np.sum(X, axis=1) + np.random.normal(0, 0.1, 100)  # target: simulated yield\n",
    "\n",
    "# Build Neural Network\n",
    "def create_model():\n",
    "    model = Sequential()\n",
    "    model.add(Dense(8, input_dim=4, activation='relu'))\n",
    "    model.add(Dense(1, activation='linear'))\n",
    "    model.compile(optimizer='adam', loss='mse')\n",
    "    return model\n",
    "\n",
    "# Genetic Algorithm setup\n",
    "creator.create(\"FitnessMin\", base.Fitness, weights=(-1.0,))\n",
    "creator.create(\"Individual\", list, fitness=creator.FitnessMin)\n",
    "\n",
    "def evaluate(individual):\n",
    "    # Example: interpret individual as hyperparameters\n",
    "    lr = individual[0]\n",
    "    units = int(individual[1])\n",
    "    \n",
    "    # Build and train NN\n",
    "    model = Sequential()\n",
    "    model.add(Dense(units, input_dim=4, activation='relu'))\n",
    "    model.add(Dense(1, activation='linear'))\n",
    "    model.compile(optimizer='adam', loss='mse')\n",
    "    model.fit(X, y, epochs=10, verbose=0)\n",
    "    \n",
    "    loss = model.evaluate(X, y, verbose=0)\n",
    "    return (loss,)\n",
    "\n",
    "toolbox = base.Toolbox()\n",
    "toolbox.register(\"attr_float\", random.uniform, 0.0001, 0.01)  # learning rate\n",
    "toolbox.register(\"attr_int\", random.randint, 4, 16)           # hidden units\n",
    "toolbox.register(\"individual\", tools.initCycle, creator.Individual,\n",
    "                 (toolbox.attr_float, toolbox.attr_int), n=1)\n",
    "toolbox.register(\"population\", tools.initRepeat, list, toolbox.individual)\n",
    "\n",
    "toolbox.register(\"evaluate\", evaluate)\n",
    "toolbox.register(\"mate\", tools.cxBlend, alpha=0.5)\n",
    "toolbox.register(\"mutate\", tools.mutGaussian, mu=0, sigma=0.1, indpb=0.1)\n",
    "toolbox.register(\"select\", tools.selTournament, tournsize=3)\n",
    "\n",
    "pop = toolbox.population(n=10)\n",
    "algorithms.eaSimple(pop, toolbox, cxpb=0.5, mutpb=0.2, ngen=5, verbose=True)\n",
    "\n",
    "best_ind = tools.selBest(pop, k=1)[0]\n",
    "print(\"Best individual (learning rate, hidden units):\", best_ind)\n"
   ]
  },
  {
   "cell_type": "code",
   "execution_count": null,
   "id": "460f4adc-8de9-49f6-baea-56f0e45687c8",
   "metadata": {},
   "outputs": [],
   "source": []
  }
 ],
 "metadata": {
  "kernelspec": {
   "display_name": "Python 3 (ipykernel)",
   "language": "python",
   "name": "python3"
  },
  "language_info": {
   "codemirror_mode": {
    "name": "ipython",
    "version": 3
   },
   "file_extension": ".py",
   "mimetype": "text/x-python",
   "name": "python",
   "nbconvert_exporter": "python",
   "pygments_lexer": "ipython3",
   "version": "3.10.0"
  }
 },
 "nbformat": 4,
 "nbformat_minor": 5
}
