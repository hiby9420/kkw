{
 "cells": [
  {
   "cell_type": "code",
   "execution_count": null,
   "id": "a140f64c-9449-4955-8701-515dda7e7b76",
   "metadata": {},
   "outputs": [],
   "source": [
    "Implementation of Clonal selection algorithm using Python. "
   ]
  },
  {
   "cell_type": "code",
   "execution_count": 1,
   "id": "33218960-5121-4a57-b7db-80cf01343f47",
   "metadata": {},
   "outputs": [
    {
     "name": "stdout",
     "output_type": "stream",
     "text": [
      "Generation 1: Best solution = -1.3160, Fitness = 1.7319\n",
      "Generation 2: Best solution = -1.1092, Fitness = 1.2303\n",
      "Generation 3: Best solution = -1.0072, Fitness = 1.0144\n",
      "Generation 4: Best solution = -0.8175, Fitness = 0.6683\n",
      "Generation 5: Best solution = -0.6298, Fitness = 0.3966\n",
      "Generation 6: Best solution = -0.4226, Fitness = 0.1786\n",
      "Generation 7: Best solution = -0.1745, Fitness = 0.0305\n",
      "Generation 8: Best solution = 0.0557, Fitness = 0.0031\n",
      "Generation 9: Best solution = -0.0009, Fitness = 0.0000\n",
      "Generation 10: Best solution = 0.0083, Fitness = 0.0001\n",
      "Generation 11: Best solution = -0.0009, Fitness = 0.0000\n",
      "Generation 12: Best solution = -0.0069, Fitness = 0.0000\n",
      "Generation 13: Best solution = -0.0024, Fitness = 0.0000\n",
      "Generation 14: Best solution = -0.0061, Fitness = 0.0000\n",
      "Generation 15: Best solution = 0.0019, Fitness = 0.0000\n",
      "Generation 16: Best solution = -0.0023, Fitness = 0.0000\n",
      "Generation 17: Best solution = 0.0039, Fitness = 0.0000\n",
      "Generation 18: Best solution = 0.0002, Fitness = 0.0000\n",
      "Generation 19: Best solution = -0.0042, Fitness = 0.0000\n",
      "Generation 20: Best solution = -0.0001, Fitness = 0.0000\n",
      "\n",
      "Final Best Solution: -6.504603247280832e-05\n"
     ]
    }
   ],
   "source": [
    "import numpy as np\n",
    "import random\n",
    "\n",
    "# Objective function to minimize\n",
    "def objective_function(x):\n",
    "    return x ** 2\n",
    "\n",
    "# Parameters\n",
    "population_size = 10         # number of solutions in the population\n",
    "num_generations = 20         # number of iterations\n",
    "num_clones = 5               # number of clones per selected solution\n",
    "mutation_rate = 0.1          # how much we mutate each clone\n",
    "x_bounds = [-10, 10]         # allowed range for x\n",
    "\n",
    "\n",
    "# Initialize population (random solutions)\n",
    "population = [random.uniform(x_bounds[0], x_bounds[1]) for _ in range(population_size)]\n",
    "\n",
    "for generation in range(num_generations):\n",
    "    # Evaluate fitness (lower is better)\n",
    "    fitness = [objective_function(x) for x in population]\n",
    "    \n",
    "    # Select top solutions\n",
    "    sorted_population = [x for _, x in sorted(zip(fitness, population))]\n",
    "    best_solutions = sorted_population[:int(population_size / 2)]\n",
    "    \n",
    "    # Cloning and mutation\n",
    "    clones = []\n",
    "    for sol in best_solutions:\n",
    "        for _ in range(num_clones):\n",
    "            # Clone + mutate\n",
    "            mutated = sol + np.random.normal(0, mutation_rate)\n",
    "            # Keep within bounds\n",
    "            mutated = max(min(mutated, x_bounds[1]), x_bounds[0])\n",
    "            clones.append(mutated)\n",
    "    \n",
    "    # Evaluate clones\n",
    "    clone_fitness = [objective_function(x) for x in clones]\n",
    "    \n",
    "    # Select best clones to form new population\n",
    "    sorted_clones = [x for _, x in sorted(zip(clone_fitness, clones))]\n",
    "    population = sorted_clones[:population_size]\n",
    "\n",
    "    # Print best solution each generation\n",
    "    best = population[0]\n",
    "    print(f\"Generation {generation+1}: Best solution = {best:.4f}, Fitness = {objective_function(best):.4f}\")\n",
    "\n",
    "# Final result\n",
    "print(\"\\nFinal Best Solution:\", best)\n"
   ]
  },
  {
   "cell_type": "code",
   "execution_count": null,
   "id": "828d5641-fe3b-4a79-9103-8132be7bfa8b",
   "metadata": {},
   "outputs": [],
   "source": []
  }
 ],
 "metadata": {
  "kernelspec": {
   "display_name": "Python 3 (ipykernel)",
   "language": "python",
   "name": "python3"
  },
  "language_info": {
   "codemirror_mode": {
    "name": "ipython",
    "version": 3
   },
   "file_extension": ".py",
   "mimetype": "text/x-python",
   "name": "python",
   "nbconvert_exporter": "python",
   "pygments_lexer": "ipython3",
   "version": "3.10.0"
  }
 },
 "nbformat": 4,
 "nbformat_minor": 5
}
