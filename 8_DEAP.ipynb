{
 "cells": [
  {
   "cell_type": "code",
   "execution_count": null,
   "id": "1731c2d3-6759-4e40-a9e7-3dc6cf03fdf1",
   "metadata": {},
   "outputs": [],
   "source": [
    "Implement DEAP (Distributed Evolutionary Algorithms) using Python. "
   ]
  },
  {
   "cell_type": "code",
   "execution_count": 1,
   "id": "a7a15b88-bf20-4178-a815-33bc6e21025b",
   "metadata": {},
   "outputs": [
    {
     "name": "stdout",
     "output_type": "stream",
     "text": [
      "Requirement already satisfied: deap in c:\\users\\ayush\\appdata\\local\\programs\\python\\python310\\lib\\site-packages (1.4.3)\n",
      "Requirement already satisfied: numpy in c:\\users\\ayush\\appdata\\local\\programs\\python\\python310\\lib\\site-packages (from deap) (1.26.4)\n"
     ]
    },
    {
     "name": "stderr",
     "output_type": "stream",
     "text": [
      "WARNING: You are using pip version 21.2.3; however, version 25.1.1 is available.\n",
      "You should consider upgrading via the 'C:\\Users\\ayush\\AppData\\Local\\Programs\\Python\\Python310\\python.exe -m pip install --upgrade pip' command.\n"
     ]
    }
   ],
   "source": [
    "!pip install deap\n"
   ]
  },
  {
   "cell_type": "code",
   "execution_count": 2,
   "id": "27e52310-aa2e-4cb4-a8b1-d4e61b0eb3f6",
   "metadata": {},
   "outputs": [
    {
     "name": "stdout",
     "output_type": "stream",
     "text": [
      "gen\tnevals\tavg    \tmax    \n",
      "0  \t20    \t37.0998\t97.4174\n",
      "1  \t16    \t88.8184\t231.265\n",
      "2  \t11    \t105.395\t271.053\n",
      "3  \t13    \t120.707\t509.697\n",
      "4  \t15    \t155.176\t509.697\n",
      "5  \t13    \t311.559\t912.064\n",
      "6  \t15    \t535.646\t1618.07\n",
      "7  \t14    \t1322.84\t6008.5 \n",
      "8  \t14    \t3675.04\t7319.04\n",
      "9  \t9     \t6459.91\t19470.5\n",
      "10 \t16    \t7861.28\t21462.3\n",
      "11 \t13    \t15657.7\t48654.7\n",
      "12 \t10    \t34805  \t94859.3\n",
      "13 \t13    \t44769  \t94859.3\n",
      "14 \t9     \t93680.4\t263062 \n",
      "15 \t6     \t153309 \t264746 \n",
      "16 \t14    \t310119 \t1.0507e+06\n",
      "17 \t11    \t313952 \t1.0507e+06\n",
      "18 \t13    \t879694 \t2.85347e+06\n",
      "19 \t10    \t1.52039e+06\t3.7722e+06 \n",
      "20 \t7     \t2.42659e+06\t5.75083e+06\n",
      "21 \t13    \t3.88652e+06\t6.60494e+06\n",
      "22 \t9     \t5.48998e+06\t6.87068e+06\n",
      "23 \t12    \t6.03555e+06\t6.87068e+06\n",
      "24 \t14    \t6.25472e+06\t6.87068e+06\n",
      "25 \t13    \t6.63444e+06\t6.87068e+06\n",
      "26 \t7     \t6.77976e+06\t6.87068e+06\n",
      "27 \t13    \t6.82188e+06\t6.87068e+06\n",
      "28 \t10    \t6.85821e+06\t6.87924e+06\n",
      "29 \t15    \t6.8686e+06 \t6.87924e+06\n",
      "30 \t13    \t6.87379e+06\t6.87924e+06\n",
      "\n",
      "Best individual: [-2622.829630518896], Fitness: 6879235.270727889\n"
     ]
    }
   ],
   "source": [
    "import random\n",
    "from deap import base, creator, tools, algorithms\n",
    "\n",
    "# Define the optimization problem (maximize x^2)\n",
    "creator.create(\"FitnessMax\", base.Fitness, weights=(1.0,))  # maximize\n",
    "creator.create(\"Individual\", list, fitness=creator.FitnessMax)\n",
    "\n",
    "# Initialize toolbox\n",
    "toolbox = base.Toolbox()\n",
    "toolbox.register(\"attr_float\", random.uniform, -10, 10)  # gene: float between -10 and 10\n",
    "toolbox.register(\"individual\", tools.initRepeat, creator.Individual, toolbox.attr_float, n=1)\n",
    "toolbox.register(\"population\", tools.initRepeat, list, toolbox.individual)\n",
    "\n",
    "# Define evaluation function\n",
    "def evalFunc(individual):\n",
    "    x = individual[0]\n",
    "    return (x ** 2,)\n",
    "\n",
    "toolbox.register(\"evaluate\", evalFunc)\n",
    "toolbox.register(\"mate\", tools.cxBlend, alpha=0.5)\n",
    "toolbox.register(\"mutate\", tools.mutGaussian, mu=0, sigma=1, indpb=0.2)\n",
    "toolbox.register(\"select\", tools.selTournament, tournsize=3)\n",
    "\n",
    "# Run the algorithm\n",
    "def main():\n",
    "    random.seed(42)\n",
    "    pop = toolbox.population(n=20)\n",
    "    hof = tools.HallOfFame(1)\n",
    "    stats = tools.Statistics(lambda ind: ind.fitness.values)\n",
    "    stats.register(\"avg\", lambda x: sum(v[0] for v in x) / len(x))\n",
    "    stats.register(\"max\", lambda x: max(v[0] for v in x))\n",
    "    \n",
    "    pop, log = algorithms.eaSimple(pop, toolbox, cxpb=0.5, mutpb=0.2, ngen=30, stats=stats, halloffame=hof, verbose=True)\n",
    "    \n",
    "    print(f\"\\nBest individual: {hof[0]}, Fitness: {hof[0].fitness.values[0]}\")\n",
    "\n",
    "if __name__ == \"__main__\":\n",
    "    main()\n"
   ]
  },
  {
   "cell_type": "code",
   "execution_count": null,
   "id": "853dd75c-de4e-4a97-ae92-4d5c82a9021e",
   "metadata": {},
   "outputs": [],
   "source": []
  }
 ],
 "metadata": {
  "kernelspec": {
   "display_name": "Python 3 (ipykernel)",
   "language": "python",
   "name": "python3"
  },
  "language_info": {
   "codemirror_mode": {
    "name": "ipython",
    "version": 3
   },
   "file_extension": ".py",
   "mimetype": "text/x-python",
   "name": "python",
   "nbconvert_exporter": "python",
   "pygments_lexer": "ipython3",
   "version": "3.10.0"
  }
 },
 "nbformat": 4,
 "nbformat_minor": 5
}
