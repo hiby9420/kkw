{
 "cells": [
  {
   "cell_type": "code",
   "execution_count": 2,
   "id": "0c13a10e-b8a6-491f-9750-b0c1005b5997",
   "metadata": {},
   "outputs": [
    {
     "name": "stdin",
     "output_type": "stream",
     "text": [
      "Enter an integer to calculate its factorial:  4\n"
     ]
    },
    {
     "name": "stdout",
     "output_type": "stream",
     "text": [
      "Factorial of 4 is 24\n"
     ]
    }
   ],
   "source": [
    "import xmlrpc.client\n",
    "\n",
    "# Connect to server\n",
    "proxy = xmlrpc.client.ServerProxy(\"http://localhost:9000/\")\n",
    "\n",
    "# Take input from user\n",
    "n = int(input(\"Enter an integer to calculate its factorial: \"))\n",
    "\n",
    "# Call remote factorial function\n",
    "result = proxy.factorial(n)\n",
    "\n",
    "# Display result\n",
    "print(f\"Factorial of {n} is {result}\")\n"
   ]
  },
  {
   "cell_type": "code",
   "execution_count": null,
   "id": "c2eda048-272e-4c58-a6dd-a61d76f4146b",
   "metadata": {},
   "outputs": [],
   "source": []
  }
 ],
 "metadata": {
  "kernelspec": {
   "display_name": "Python 3 (ipykernel)",
   "language": "python",
   "name": "python3"
  },
  "language_info": {
   "codemirror_mode": {
    "name": "ipython",
    "version": 3
   },
   "file_extension": ".py",
   "mimetype": "text/x-python",
   "name": "python",
   "nbconvert_exporter": "python",
   "pygments_lexer": "ipython3",
   "version": "3.10.0"
  }
 },
 "nbformat": 4,
 "nbformat_minor": 5
}
