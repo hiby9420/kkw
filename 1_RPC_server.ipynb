{
 "cells": [
  {
   "cell_type": "code",
   "execution_count": null,
   "id": "46b06a2a-b554-4f9e-ab82-4ca2e51c501f",
   "metadata": {},
   "outputs": [],
   "source": [
    "1. Design a distributed application using RPC for remote computation where client submits an \n",
    "integer value to the server and server calculates factorial and returns the result to the client \n",
    "program. "
   ]
  },
  {
   "cell_type": "code",
   "execution_count": null,
   "id": "5c66597e-13a1-4f41-b4c2-c853d0c1c8aa",
   "metadata": {},
   "outputs": [],
   "source": [
    "# !pip install xmlrpc\n"
   ]
  },
  {
   "cell_type": "code",
   "execution_count": null,
   "id": "feaa0e2c-ffff-40e5-8c10-7194cea29ad4",
   "metadata": {},
   "outputs": [
    {
     "name": "stdout",
     "output_type": "stream",
     "text": [
      "Server is listening on port 9000...\n",
      "Server computed factorial(5) = 120\n"
     ]
    },
    {
     "name": "stderr",
     "output_type": "stream",
     "text": [
      "127.0.0.1 - - [07/May/2025 12:46:09] \"POST / HTTP/1.1\" 200 -\n"
     ]
    },
    {
     "name": "stdout",
     "output_type": "stream",
     "text": [
      "Server computed factorial(4) = 24\n"
     ]
    },
    {
     "name": "stderr",
     "output_type": "stream",
     "text": [
      "127.0.0.1 - - [07/May/2025 12:46:54] \"POST / HTTP/1.1\" 200 -\n"
     ]
    }
   ],
   "source": [
    "\n",
    "from xmlrpc.server import SimpleXMLRPCServer\n",
    "\n",
    "# Define the factorial function\n",
    "def factorial(n):\n",
    "    result = 1\n",
    "    for i in range(1, n + 1):\n",
    "        result *= i\n",
    "    print(f\"Server computed factorial({n}) = {result}\")\n",
    "    return result\n",
    "\n",
    "# Create RPC server\n",
    "server = SimpleXMLRPCServer((\"localhost\", 9000))\n",
    "print(\"Server is listening on port 9000...\")\n",
    "\n",
    "# Register the function\n",
    "server.register_function(factorial, \"factorial\")\n",
    "\n",
    "# Run the server (this will block the cell)\n",
    "server.serve_forever()\n"
   ]
  },
  {
   "cell_type": "code",
   "execution_count": null,
   "id": "21e380fa-3749-4c5f-9648-0b88366519ef",
   "metadata": {},
   "outputs": [],
   "source": []
  }
 ],
 "metadata": {
  "kernelspec": {
   "display_name": "Python 3 (ipykernel)",
   "language": "python",
   "name": "python3"
  },
  "language_info": {
   "codemirror_mode": {
    "name": "ipython",
    "version": 3
   },
   "file_extension": ".py",
   "mimetype": "text/x-python",
   "name": "python",
   "nbconvert_exporter": "python",
   "pygments_lexer": "ipython3",
   "version": "3.10.0"
  }
 },
 "nbformat": 4,
 "nbformat_minor": 5
}
